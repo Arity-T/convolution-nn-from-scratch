{
 "cells": [
  {
   "cell_type": "code",
   "execution_count": 1,
   "metadata": {},
   "outputs": [],
   "source": [
    "import numpy as np\n",
    "import matplotlib.pyplot as plt\n",
    "import matplotlib.image as mpimg\n",
    "import math\n",
    "import sys\n",
    "\n",
    "np.random.seed(17)"
   ]
  },
  {
   "cell_type": "markdown",
   "metadata": {},
   "source": [
    "# Preparation of training and validation datasets"
   ]
  },
  {
   "cell_type": "markdown",
   "metadata": {},
   "source": [
    "The data was taken from <a href=\"https://www.kaggle.com/c/digit-recognizer/data\">kaggle competition</a>"
   ]
  },
  {
   "cell_type": "code",
   "execution_count": 2,
   "metadata": {},
   "outputs": [],
   "source": [
    "train_size = 37000\n",
    "validation_size = 5000"
   ]
  },
  {
   "cell_type": "code",
   "execution_count": 3,
   "metadata": {},
   "outputs": [
    {
     "data": {
      "text/plain": [
       "(42000, 785)"
      ]
     },
     "execution_count": 3,
     "metadata": {},
     "output_type": "execute_result"
    }
   ],
   "source": [
    "# Read data from file\n",
    "data = np.genfromtxt('mnist/train.csv', delimiter=',', skip_header=1)\n",
    "data.shape"
   ]
  },
  {
   "cell_type": "code",
   "execution_count": 4,
   "metadata": {},
   "outputs": [],
   "source": [
    "# In this dataset image sizes is 28x28 but we need 32x32 so we just add zeros\n",
    "# on the sides of each image using np.pad\n",
    "# This is parameter for the function\n",
    "# First and second tuples are for examples and layers \n",
    "# third and fourth are for rows and columns of images\n",
    "padding = ((0, 0), (0, 0), (2, 2), (2, 2))"
   ]
  },
  {
   "cell_type": "code",
   "execution_count": 5,
   "metadata": {},
   "outputs": [
    {
     "data": {
      "text/plain": [
       "(37000, 1, 32, 32)"
      ]
     },
     "execution_count": 5,
     "metadata": {},
     "output_type": "execute_result"
    }
   ],
   "source": [
    "# Reshape data and add one more axis for image channels\n",
    "# images are black and white so there is only one channel (black and white - 1, rgb - 3, rgba - 4)\n",
    "# First column is answers so you should skip it\n",
    "# We also normalize the values by dividing by 255\n",
    "x_train = data[:train_size, 1:].reshape((train_size, 1, 28, 28)) / 255 \n",
    "x_train = np.pad(x_train, padding) # Make it 32x32\n",
    "x_train.shape"
   ]
  },
  {
   "cell_type": "code",
   "execution_count": 6,
   "metadata": {},
   "outputs": [
    {
     "data": {
      "text/plain": [
       "(37000, 1)"
      ]
     },
     "execution_count": 6,
     "metadata": {},
     "output_type": "execute_result"
    }
   ],
   "source": [
    "# Extract answers\n",
    "y_train = data[:train_size, :1]\n",
    "y_train.shape"
   ]
  },
  {
   "cell_type": "code",
   "execution_count": 7,
   "metadata": {},
   "outputs": [
    {
     "data": {
      "text/plain": [
       "(5000, 1, 32, 32)"
      ]
     },
     "execution_count": 7,
     "metadata": {},
     "output_type": "execute_result"
    }
   ],
   "source": [
    "# Do the same with the validation part of the dateset\n",
    "x_validation = data[train_size:train_size + validation_size, 1:].reshape((validation_size, 1, 28, 28)) / 255\n",
    "x_validation = np.pad(x_validation, padding) # Make it 32x32\n",
    "x_validation.shape"
   ]
  },
  {
   "cell_type": "code",
   "execution_count": 8,
   "metadata": {},
   "outputs": [
    {
     "data": {
      "text/plain": [
       "(5000, 1)"
      ]
     },
     "execution_count": 8,
     "metadata": {},
     "output_type": "execute_result"
    }
   ],
   "source": [
    "# Extract answers\n",
    "y_validation = data[train_size:train_size + validation_size, :1]\n",
    "y_validation.shape"
   ]
  },
  {
   "cell_type": "code",
   "execution_count": 9,
   "metadata": {},
   "outputs": [
    {
     "data": {
      "text/plain": [
       "array([1.])"
      ]
     },
     "execution_count": 9,
     "metadata": {},
     "output_type": "execute_result"
    },
    {
     "data": {
      "image/png": "[encoded data removed]",
      "text/plain": [
       "<Figure size 432x288 with 1 Axes>"
      ]
     },
     "metadata": {
      "needs_background": "light"
     },
     "output_type": "display_data"
    }
   ],
   "source": [
    "# Example\n",
    "example_number = 745\n",
    "\n",
    "plt.imshow(x_train[example_number, 0])\n",
    "y_train[example_number]"
   ]
  },
  {
   "cell_type": "markdown",
   "metadata": {},
   "source": [
    "# Convolution "
   ]
  },
  {
   "cell_type": "code",
   "execution_count": 10,
   "metadata": {},
   "outputs": [],
   "source": [
    "# Performs convolution layer\n",
    "# Supports only square kernels\n",
    "# Kernels, masks, filters are the same thing in terms of cnn\n",
    "# It's cross-correlation, to be precise\n",
    "class Convolution:\n",
    "    def __init__(self, kernel_size, input_channels, output_channels, stride=1):\n",
    "        self.kernel_size = kernel_size # Size of kernels\n",
    "        self.input_channels = input_channels # Number of channels in input images\n",
    "        self.output_channels = output_channels # Number of channels in output images\n",
    "        self.stride = stride\n",
    "        \n",
    "        # Generate paramters of convolution layer\n",
    "        # Shape of weights is \n",
    "        #             (number of channels in the resulting image, number of channels in the input image, \n",
    "        #              kernel_size, kernel_size)\n",
    "        # Shape of biases is (number of channels in the resulting image, number of channels in the input image)\n",
    "        #             one bias for each kernel\n",
    "        # Random numbers from -0.5 to 0.5\n",
    "        self.weights = np.random.random((output_channels, input_channels,\n",
    "                                         kernel_size, kernel_size)) - 0.5\n",
    "        self.biases  = np.random.random((output_channels, input_channels)) - 0.5\n",
    "        \n",
    "        # Save the number of layer parameters\n",
    "        # We use it only when recover network parameters from file\n",
    "        self.n_parameters = self.weights.size + self.biases.size\n",
    "        \n",
    "        \n",
    "    # Performs forward pass of a convolution layer\n",
    "    def forward(self, x):\n",
    "        # Shape of x is (number of examples, number of channels in the input images,\n",
    "        # number of rows in image, number of columns in image)\n",
    "        n_examples, input_channels, img_rows, img_columns = x.shape\n",
    "        \n",
    "        # Save input shape (for backpropagation)\n",
    "        self.input_shape = x.shape\n",
    "        \n",
    "        # Calculate number of rows and columns in output images \n",
    "        out_rows = (img_rows - self.kernel_size) // self.stride + 1 \n",
    "        out_columns = (img_columns - self.kernel_size) // self.stride + 1\n",
    "        # Create result matrix\n",
    "        result = np.zeros((n_examples, self.output_channels, out_rows, out_columns))\n",
    "        \n",
    "        # Loop through the output channels of images\n",
    "        for out_channel in range(self.output_channels):\n",
    "            # Loop through the input channels\n",
    "            for in_channel in range(self.input_channels):\n",
    "                # Select current kernel\n",
    "                current_kernel = self.weights[out_channel, in_channel]\n",
    "                \n",
    "                for i in range(out_rows):\n",
    "                    for j in range(out_columns):\n",
    "                        # Calculate coordinates of the current area\n",
    "                        row_start = i * self.stride\n",
    "                        row_end = i * self.stride + self.kernel_size\n",
    "                        col_start = j * self.stride\n",
    "                        col_end = j * self.stride + self.kernel_size\n",
    "                        \n",
    "                        # Select the current area for all examples\n",
    "                        current_area = x[:, in_channel, row_start:row_end, col_start:col_end]\n",
    "                        \n",
    "                        # Shape of current_area is (number of examples, kernel size, kernel size)\n",
    "                        # Shape of current_kernel is (kernel size, kernel size)\n",
    "                        # Multiply current_area for each example by current_kernel\n",
    "                        temp_result = current_kernel * current_area\n",
    "                        \n",
    "                        # Sum values for each example\n",
    "                        # temp_result shape changed from (number of examples, kernel size, kernel size)\n",
    "                        #                             to (number of examples, 1)\n",
    "                        temp_result = np.sum(np.sum(temp_result, axis=1), axis=1)\n",
    "                        \n",
    "                        # Save result\n",
    "                        result[:, out_channel, i, j] += temp_result\n",
    "                        \n",
    "                # Add bias (remember one bias for each kernel)\n",
    "                result[:, out_channel] += self.biases[out_channel, in_channel]\n",
    "                        \n",
    "        return result\n",
    "    \n",
    "    \n",
    "    # Performs backpropagation algorithm\n",
    "    def update_parameters(self, error, prev_layer_act, lr):\n",
    "        # Shape of error is (number of examples, number of channels in output of this layer, \n",
    "        #                    rows in output images, columns in output images)\n",
    "        # Shape of prev_layer_act is (number of examples, number of channels in input of this layer, \n",
    "        #                         rows in input images, columns in input images)\n",
    "        # lr is the learning rate\n",
    "        \n",
    "        error_channels, error_rows, error_cols = error.shape[1:]\n",
    "        prev_channels = prev_layer_act.shape[1]\n",
    "        \n",
    "        # Loop through error channels (same as output channels)\n",
    "        for error_channel in range(error_channels):\n",
    "            for prev_channel in range(prev_channels):\n",
    "                # Select current kernel from matrix (output channels, input channels)\n",
    "                current_kernel = self.weights[error_channel, prev_channel]\n",
    "                \n",
    "                current_error = error[:, error_channel]\n",
    "                current_prev_l_act = prev_layer_act[:, prev_channel]\n",
    "                \n",
    "                # Update biases\n",
    "                self.biases[error_channel, prev_channel] -= lr * np.sum(current_error)\n",
    "                \n",
    "                for kernel_row in range(self.kernel_size):\n",
    "                    for kernel_col in range(self.kernel_size):\n",
    "                        for error_row in range(error_rows):\n",
    "                            for error_col in range(error_cols):\n",
    "                                # Select element from previous layer activation\n",
    "                                row = error_row * self.stride + kernel_row\n",
    "                                col = error_col * self.stride + kernel_col\n",
    "                                elem_from_prev_l_act = current_prev_l_act[:, row, col]\n",
    "                                \n",
    "                                # Calculate derivative\n",
    "                                derivative = np.sum(current_error[:, error_row, error_col] * elem_from_prev_l_act)\n",
    "                                \n",
    "                                # Update kernel\n",
    "                                current_kernel[kernel_row, kernel_col] -= lr * derivative\n",
    "                                    \n",
    "    \n",
    "    # Passes error through the convolution layer\n",
    "    # This method only works when stride is 1\n",
    "    # When stride is one backprop is almost the same as forward\n",
    "    def fast_get_error(self, prev_error):\n",
    "        # Shape of previous error is (number of examples, number of channels, rows, columns)\n",
    "        p = self.kernel_size - 1\n",
    "        prev_error = np.pad(prev_error, ((0, 0), (0, 0), (p, p), (p, p)))\n",
    "        n_examples, prev_channels, prev_rows, prev_cols = prev_error.shape\n",
    "        \n",
    "        # Shape of new error is the same as the shape of input matrix\n",
    "        error_channels, error_rows, error_cols = self.input_shape[1:]\n",
    "        error = np.zeros((n_examples, error_channels, error_rows, error_cols))\n",
    "        \n",
    "        for prev_channel in range(prev_channels):\n",
    "            for error_channel in range(error_channels):\n",
    "                # We should rotate weights matrix \n",
    "                # You can find out more in this article: https://grzegorzgwardys.wordpress.com/2016/04/22/8/\n",
    "                current_kernel = np.rot90(self.weights[prev_channel, error_channel], 2)\n",
    "                \n",
    "                for error_row in range(error_rows):\n",
    "                    for error_col in range(error_cols):\n",
    "                        # Calculate coordinates of the current area\n",
    "                        row_start = error_row * self.stride\n",
    "                        row_end = error_row * self.stride + self.kernel_size\n",
    "                        col_start = error_col * self.stride\n",
    "                        col_end = error_col * self.stride + self.kernel_size\n",
    "                        \n",
    "                        # Select the current area for all examples\n",
    "                        current_area = prev_error[:, prev_channel, row_start:row_end, col_start:col_end]\n",
    "                        \n",
    "                        # Calculate result\n",
    "                        # Shape of current_area is (number of examples, kernel size, kernel size)\n",
    "                        # Shape of current_kernel is (kernel size, kernel size)\n",
    "                        # Multiply current_area for each example by current_kernel\n",
    "                        temp_result = current_kernel * current_area\n",
    "                        \n",
    "                        # Sum values for each example\n",
    "                        # temp_result shape changed from (number of examples, kernel size, kernel size)\n",
    "                        #                             to (number of examples, 1)\n",
    "                        temp_result = np.sum(np.sum(temp_result, axis=1), axis=1)\n",
    "                        \n",
    "                        # Save result\n",
    "                        error[:, error_channel, error_row, error_col] += temp_result\n",
    "                        \n",
    "        return error\n",
    "    \n",
    "    \n",
    "    # Passes error through the convolution layer\n",
    "    # This method works with any stride but it's twice as slow\n",
    "    def get_error(self, prev_error):\n",
    "        # Shape of previous error is (number of examples, number of channels, rows, columns)\n",
    "        n_examples, prev_channels, prev_rows, prev_cols = prev_error.shape\n",
    "        \n",
    "        # Shape of new error is the same as the shape of input matrix\n",
    "        error_channels, error_rows, error_cols = self.input_shape[1:]\n",
    "        error = np.zeros((n_examples, error_channels, error_rows, error_cols))\n",
    "        \n",
    "        for prev_channel in range(prev_channels):\n",
    "            for error_channel in range(error_channels):\n",
    "                current_kernel = self.weights[prev_channel, error_channel]\n",
    "                current_error = error[:, error_channel]\n",
    "                current_prev_error = prev_error[:, prev_channel]\n",
    "                \n",
    "                for error_row in range(error_rows):\n",
    "                    for error_col in range(error_cols):\n",
    "                        for prev_row in range(prev_rows):\n",
    "                            for prev_col in range(prev_cols):\n",
    "                                # Calculate coordinates of the current weight\n",
    "                                kernel_row = error_row - prev_row * self.stride\n",
    "                                kernel_col = error_col - prev_col * self.stride\n",
    "                                \n",
    "                                if (kernel_row < 0 or kernel_col < 0\n",
    "                                   or kernel_row > self.kernel_size - 1\n",
    "                                   or kernel_col > self.kernel_size - 1):\n",
    "                                    continue\n",
    "                                    \n",
    "                                derivative = (\n",
    "                                    current_prev_error[:, prev_row, prev_col] * current_kernel[kernel_row, kernel_col]\n",
    "                                )\n",
    "        \n",
    "                                current_error[:, error_row, error_col] += derivative\n",
    "        \n",
    "        return error\n",
    "    \n",
    "    \n",
    "    # This method helps to save network parameters to file \n",
    "    # Squeeze layer parameters to line\n",
    "    def parameters_to_line(self):\n",
    "        n_w = self.kernel_size**2 * self.input_channels * self.output_channels\n",
    "        n_b = self.input_channels * self.output_channels\n",
    "        result = np.zeros(n_w + n_b)\n",
    "        result[:n_w] = self.weights.reshape(-1)\n",
    "        result[n_w:] = self.biases.reshape(-1)\n",
    "        \n",
    "        return result\n",
    "        \n",
    "    # This method helps recover network parameters from file\n",
    "    # Recover layer parameters from line\n",
    "    def parameters_from_line(self, line):\n",
    "        n_w = self.kernel_size**2 * self.input_channels * self.output_channels\n",
    "        n_b = self.input_channels * self.output_channels\n",
    "        self.weights = line[:n_w].reshape(\n",
    "            (self.output_channels, self.input_channels, self.kernel_size, self.kernel_size) )\n",
    "        self.biases = line[n_w:].reshape((self.output_channels, self.input_channels))\n",
    "      "
   ]
  },
  {
   "cell_type": "markdown",
   "metadata": {},
   "source": [
    "# Pooling "
   ]
  },
  {
   "cell_type": "code",
   "execution_count": 11,
   "metadata": {},
   "outputs": [],
   "source": [
    "# Performs max pooling layer\n",
    "class MaxPool:\n",
    "    def __init__(self, size, stride=2):\n",
    "        self.size = size # Size of pooling area\n",
    "        self.stride = stride \n",
    "        \n",
    "\n",
    "    # Performs forward pass of a max pooling layer\n",
    "    def forward(self, x):\n",
    "        # Shape of x is (n_examples, input_channels, img_rows, img_columns)\n",
    "        n_examples, n_channels = x.shape[:2]\n",
    "        # Save shape of images (for backpropagation)\n",
    "        self.input_shape = x[2:]\n",
    "        # Calculate size of output images\n",
    "        output_size = (x.shape[2] - self.size) // self.stride + 1\n",
    "        # Create result matrix with zeros\n",
    "        result = np.zeros((n_examples, n_channels, output_size, output_size))\n",
    "        \n",
    "        # Save input image shape and create indexes matrix (for backpropagation)\n",
    "        self.input_shape = x.shape[2:]\n",
    "        self.indexes = np.zeros((n_examples, n_channels, output_size, output_size, 2), dtype=int)\n",
    "        \n",
    "        # Loop through the channels of images\n",
    "        for channel in range(n_channels):\n",
    "            for i in range(output_size):\n",
    "                for j in range(output_size):\n",
    "                    # Calculate coordinates of the current area\n",
    "                    row_start = i * self.stride \n",
    "                    row_end = i * self.stride + self.size\n",
    "                    col_start = j * self.stride\n",
    "                    col_end = j * self.stride + self.size\n",
    "                    \n",
    "                    # Selecting current area for all examples\n",
    "                    current_area = x[:, channel, row_start:row_end, col_start:col_end]\n",
    "                    \n",
    "                    # Save values of the maximum elements in result\n",
    "                    result[:, channel, i, j] = np.max(np.max(current_area, axis=1), axis=1)\n",
    "                    \n",
    "                    # Save indexes of the maximum elements (for backpropagation)\n",
    "                    self.indexes[:, channel, i, j, :] = self.get_indexes(current_area, i, j)\n",
    "                    \n",
    "        return result\n",
    "        \n",
    "        \n",
    "    # Performs backpropagation algorithm\n",
    "    def backprop(self, error):\n",
    "        # Shape of error is (number of examples, number of channels, \n",
    "        #                    number of rows in image after applying this pooling layer, \n",
    "        #                    number of columns in image after applying this pooling layer)\n",
    "        n_examples, n_channels, output_rows, output_cols = error.shape\n",
    "        \n",
    "        # Get input image sizes (number of rows and columns in image before applying this pooling layer)\n",
    "        input_rows, input_cols = self.input_shape\n",
    "        \n",
    "        # Create result matrix with zeros\n",
    "        result = np.zeros((n_examples, n_channels, input_rows, input_cols))\n",
    "        \n",
    "        for example in range(n_examples):\n",
    "            for channel in range(n_channels):\n",
    "                for row in range(output_rows):\n",
    "                    for col in range(output_cols):\n",
    "                        # Select index of the maximum element\n",
    "                        index = self.indexes[example, channel, row, col]\n",
    "                        # Save value from error in this index\n",
    "                        result[example, channel, index[0], index[1]] = error[example, channel, row, col]\n",
    "    \n",
    "        return result                    \n",
    "        \n",
    "    def get_indexes(self, x, i, j):\n",
    "        # Shape of x is (number of examples, pooling size, pooling size)\n",
    "        n_examples, pool_size = x.shape[:2]\n",
    "        \n",
    "        # Reshape each current_area from matrix (pooling size by pooling size) \n",
    "        #                             to vector (pooling size * pooling size)\n",
    "        x = x.reshape((n_examples, pool_size * pool_size))\n",
    "        \n",
    "        # Get index of maximum element for each example and convert the result \n",
    "        # from horizontal vector to vertical one by adding another axis\n",
    "        x = x.argmax(axis=1)[:,np.newaxis]\n",
    "        \n",
    "        # Translate indexes back\n",
    "        x = np.unravel_index(x, (pool_size, pool_size))\n",
    "        # Now x looks like \n",
    "        # tuple(\n",
    "        #       vertical vector where each element is an index of the row,\n",
    "        #       vertical vector where each element is an index of the column\n",
    "        #      )\n",
    "        \n",
    "        # Concatenate this arrays into matrix\n",
    "        x = np.concatenate(x, axis=1)\n",
    "        \n",
    "        # Add offset of the current area\n",
    "        x += (i * self.stride, j * self.stride)\n",
    "        \n",
    "        return x"
   ]
  },
  {
   "cell_type": "markdown",
   "metadata": {},
   "source": [
    "# Fully connected"
   ]
  },
  {
   "cell_type": "code",
   "execution_count": 12,
   "metadata": {},
   "outputs": [],
   "source": [
    "# Performs fully connected layer\n",
    "class FullyConnected:\n",
    "    def __init__(self, input_neurons, output_neurons):\n",
    "        # Generate paramters of fully connected layer\n",
    "        # Shape of weights is \n",
    "        #             (number of output neurons, number of input neurons)\n",
    "        self.w = np.random.random((output_neurons, input_neurons)) - 0.5\n",
    "        # Shape of biases is (1, number of output neurons)\n",
    "        self.b = np.random.random((1, output_neurons)) - 0.5\n",
    "        \n",
    "        # Save the number of layer parameters\n",
    "        # We use it only when recover network parameters from file\n",
    "        self.n_parameters = self.w.size + self.b.size\n",
    "        \n",
    "    # Performs forward pass of a fully connected layer\n",
    "    def forward(self, x):\n",
    "        # Shape of x is (number of examples, number of input neurons)\n",
    "        # (n_examples, input_neurons) @ (output_neurons, input_neurons).T + (1, output_neurons)\n",
    "        return x @ self.w.T + self.b\n",
    "    \n",
    "    # Performs backpropagation algorithm\n",
    "    def backprop(self, error, lr, prev_layer_a, prev_layer_z):\n",
    "        # prev_layer_a is the saved result of the previous layer after applying the activation function\n",
    "        # prev_layer_z is the same before applying activation function\n",
    "        # Shape of error is (number of examples, number of neurons in this layer)\n",
    "        # Shape of prev_layer_a and prev_layer_z is (number of examples, number of neurons in the previous layer)\n",
    "        \n",
    "        # Update parameters\n",
    "        # (1, n_neurons) -= float * np.sum((n_examples, n_neurons), axis=0)\n",
    "        self.b -= lr * np.sum(error ,axis=0)[np.newaxis,]\n",
    "        # (n_neurons, n_prev_neurons) -= float * (n_examples, n_neurons).T @ (n_examples, n_prev_neurons)\n",
    "        self.w -= lr * error.T @ prev_layer_a\n",
    "        \n",
    "        # Backpropagation of the error \n",
    "        # (n_examples, n_neurons) @ (n_neurons, n_prev_neurons) * (n_examples, n_prev_neurons)\n",
    "        return error @ self.w * d_tanh(prev_layer_z)\n",
    "    \n",
    "    \n",
    "    # This method helps to save network parameters to file \n",
    "    # Squeeze layer parameters to line\n",
    "    def parameters_to_line(self):\n",
    "        n_w = self.w.size\n",
    "        n_b = self.b.size\n",
    "        result = np.zeros(n_w + n_b)\n",
    "        \n",
    "        result[:n_w] = self.w.reshape(-1)\n",
    "        result[n_w:] = self.b.reshape(-1)\n",
    "        \n",
    "        return result\n",
    "    \n",
    "    # This method helps recover network parameters from file\n",
    "    # Recover layer parameters from line\n",
    "    def parameters_from_line(self, line):\n",
    "        n_w = self.w.size\n",
    "        n_b = self.b.size\n",
    "        \n",
    "        self.w = line[:n_w].reshape(self.w.shape)\n",
    "        self.b = line[n_w:].reshape(self.b.shape)"
   ]
  },
  {
   "cell_type": "markdown",
   "metadata": {},
   "source": [
    "# Activation function"
   ]
  },
  {
   "cell_type": "code",
   "execution_count": 13,
   "metadata": {},
   "outputs": [],
   "source": [
    "# Hyperbolic tangent\n",
    "def tanh(x):\n",
    "    return (math.e**x - math.e**-x) / (math.e**x + math.e**-x)\n",
    "\n",
    "# Derivative of hyperbolic tangent (for backpropagation)\n",
    "def d_tanh(x):\n",
    "    return 1 - tanh(x)**2\n",
    "\n",
    "# Softmax in the output layer\n",
    "def softmax(x):\n",
    "    # Shape of x is (number of examples, 10)\n",
    "    exps = np.exp(x - np.max(x))\n",
    "    return exps / np.sum(exps, axis=1)[:, np.newaxis]"
   ]
  },
  {
   "cell_type": "markdown",
   "metadata": {},
   "source": [
    "# Network"
   ]
  },
  {
   "cell_type": "code",
   "execution_count": 14,
   "metadata": {},
   "outputs": [],
   "source": [
    "# Performs network itself\n",
    "class MyLeNet:\n",
    "    def __init__(self):\n",
    "        # First convolution layer\n",
    "        self.conv1 = Convolution(kernel_size=5, input_channels=1, output_channels=6, stride=1)\n",
    "        self.act1  = tanh\n",
    "        self.pool1 = MaxPool(size=2, stride=2)\n",
    "        \n",
    "        # Second convolution layer\n",
    "        self.conv2 = Convolution(kernel_size=5, input_channels=6, output_channels=16, stride=1)\n",
    "        self.act2  = tanh\n",
    "        self.pool2 = MaxPool(size=2, stride=2)\n",
    "        \n",
    "        # First fully connected layer\n",
    "        self.fc3   = FullyConnected(input_neurons=400, output_neurons=120)\n",
    "        self.act3  = tanh\n",
    "        \n",
    "        # Second fully connected layer\n",
    "        self.fc4   = FullyConnected(input_neurons=120, output_neurons=84)\n",
    "        self.act4  = tanh\n",
    "        \n",
    "        # Third fully connected layer\n",
    "        self.fc5   = FullyConnected(input_neurons=84, output_neurons=10)\n",
    "        self.act5  = softmax\n",
    "    \n",
    "    \n",
    "    # Performs forward pass through all layers\n",
    "    def forward(self, x):\n",
    "        # Shape of x is (number of examples, 1, 32, 32)\n",
    "        \n",
    "        # Forward propagation through first layer\n",
    "        x = self.conv1.forward(x) \n",
    "        # Now shape of x is (n_examples, 6, 28, 28) \n",
    "        x = self.pool1.forward(x)\n",
    "        # Now shape of x is (n_examples, 6, 14, 14)\n",
    "        # Save the state of x before activation function (for backpropagation)\n",
    "        self.z1 = x\n",
    "        # Apply actiovation function\n",
    "        x = self.act1(x)\n",
    "        # And save the state of x after activation function (for backpropagation)\n",
    "        self.a1 = x  \n",
    "        \n",
    "        # Second layer\n",
    "        x = self.conv2.forward(x)\n",
    "        # Now shape of x is (n_examples, 16, 10, 10) \n",
    "        x = self.pool2.forward(x) \n",
    "        # Now shape of x is (n_examples, 16, 5, 5)\n",
    "        x = x.reshape((len(x), 400)) \n",
    "        # Now shape of x is (n_examples, 400)\n",
    "        self.z2 = x\n",
    "        x = self.act2(x)\n",
    "        self.a2 = x \n",
    "        \n",
    "        # Third layer\n",
    "        x = self.fc3.forward(x)\n",
    "        self.z3 = x\n",
    "        x = self.act3(x)\n",
    "        self.a3 = x\n",
    "        # Now shape of x is (n_examples, 120)  \n",
    "        \n",
    "        # Fourth layer\n",
    "        x = self.fc4.forward(x)\n",
    "        self.z4 = x\n",
    "        x = self.act4(x)\n",
    "        self.a4 = x\n",
    "        # Now shape of x is (n_examples, 84)\n",
    "        \n",
    "        # Fifth layer\n",
    "        x = self.fc5.forward(x)\n",
    "        self.z5 = x\n",
    "        x = self.act5(x)\n",
    "        # Now shape of x is (n_examples, 10)\n",
    "        \n",
    "        return x\n",
    "    \n",
    "    \n",
    "    def parameters_to_file(self, fname, delimiter=','):\n",
    "        conv1 = self.conv1.parameters_to_line()\n",
    "        conv2 = self.conv2.parameters_to_line()\n",
    "        fc3 = self.fc3.parameters_to_line()\n",
    "        fc4 = self.fc4.parameters_to_line()\n",
    "        fc5 = self.fc5.parameters_to_line()\n",
    "        \n",
    "        file = np.concatenate( (conv1, conv2, fc3, fc4, fc5) )\n",
    "        \n",
    "        np.savetxt(fname, file, delimiter=delimiter)\n",
    "        \n",
    "        \n",
    "    def parameters_from_file(self, fname, delimiter=','):\n",
    "        file = np.genfromtxt(fname, delimiter=delimiter)\n",
    "        \n",
    "        start = 0\n",
    "        self.conv1.parameters_from_line(file[start:start + self.conv1.n_parameters])\n",
    "        \n",
    "        start += self.conv1.n_parameters\n",
    "        self.conv2.parameters_from_line(file[start:start + self.conv2.n_parameters])\n",
    "        \n",
    "        start += self.conv2.n_parameters\n",
    "        self.fc3.parameters_from_line(file[start:start + self.fc3.n_parameters])\n",
    "        \n",
    "        start += self.fc3.n_parameters\n",
    "        self.fc4.parameters_from_line(file[start:start + self.fc4.n_parameters])\n",
    "        \n",
    "        start += self.fc4.n_parameters\n",
    "        self.fc5.parameters_from_line(file[start:start + self.fc5.n_parameters])\n",
    "     "
   ]
  },
  {
   "cell_type": "code",
   "execution_count": 15,
   "metadata": {},
   "outputs": [],
   "source": [
    "net = MyLeNet()"
   ]
  },
  {
   "cell_type": "code",
   "execution_count": 16,
   "metadata": {},
   "outputs": [],
   "source": [
    "# net.parameters_from_file('conv_params.csv')"
   ]
  },
  {
   "cell_type": "code",
   "execution_count": 17,
   "metadata": {},
   "outputs": [],
   "source": [
    "net_answers = net.forward(x_validation)"
   ]
  },
  {
   "cell_type": "markdown",
   "metadata": {},
   "source": [
    "# Accuracy"
   ]
  },
  {
   "cell_type": "code",
   "execution_count": 18,
   "metadata": {},
   "outputs": [],
   "source": [
    "# Counts percent of right answers\n",
    "def get_accuracy(y_pred, y):\n",
    "    y_pred = np.argmax(y_pred, axis=1)[:,np.newaxis]\n",
    "    return np.sum(y_pred == y) / y.shape[0]"
   ]
  },
  {
   "cell_type": "code",
   "execution_count": 19,
   "metadata": {},
   "outputs": [
    {
     "data": {
      "text/plain": [
       "0.1122"
      ]
     },
     "execution_count": 19,
     "metadata": {},
     "output_type": "execute_result"
    }
   ],
   "source": [
    "get_accuracy(net_answers, y_validation)"
   ]
  },
  {
   "cell_type": "markdown",
   "metadata": {},
   "source": [
    "# Loss function"
   ]
  },
  {
   "cell_type": "code",
   "execution_count": 20,
   "metadata": {},
   "outputs": [],
   "source": [
    "def cross_entropy(y_pred, y):\n",
    "    n_examples = y.shape[0]\n",
    "    log_likelihood = -np.log(y_pred[range(n_examples), y.reshape(n_examples).astype(int)])\n",
    "    loss = np.sum(log_likelihood) / n_examples\n",
    "    return loss"
   ]
  },
  {
   "cell_type": "code",
   "execution_count": 21,
   "metadata": {},
   "outputs": [
    {
     "data": {
      "text/plain": [
       "3.4923015362888314"
      ]
     },
     "execution_count": 21,
     "metadata": {},
     "output_type": "execute_result"
    }
   ],
   "source": [
    "cross_entropy(net_answers, y_validation)"
   ]
  },
  {
   "cell_type": "code",
   "execution_count": 22,
   "metadata": {},
   "outputs": [],
   "source": [
    "# Derivative of cross entropy with softmax (for backpropagation)\n",
    "def d_ce(y_pred, y):\n",
    "    ans = np.copy(y_pred)\n",
    "    ans[range(len(y)), y.reshape(len(y)).astype(int)] = -1 + y_pred[range(len(y)), y.reshape(len(y)).astype(int)]\n",
    "    return ans"
   ]
  },
  {
   "cell_type": "markdown",
   "metadata": {},
   "source": [
    "# Learning "
   ]
  },
  {
   "cell_type": "code",
   "execution_count": 23,
   "metadata": {},
   "outputs": [],
   "source": [
    "# Performs learning algorithm\n",
    "def train(net, x, y, lr):\n",
    "    # Shape of x is (number of examples, 1, 32, 32)\n",
    "    # Shape of y is (number of examples, 1)\n",
    "    # lr (learning rate) is float\n",
    "    \n",
    "    n_examples = x.shape[0]\n",
    "    \n",
    "    # Forward pass\n",
    "    # Shape of y_pred is (n_examples, 10)\n",
    "    y_pred = net.forward(x)\n",
    "    \n",
    "    # Start backpropagation\n",
    "    # Now shape of error is (n_examples, 10)\n",
    "    error = d_ce(y_pred, y)\n",
    "    \n",
    "    # Now shape of error is (n_examples, 84)\n",
    "    error = net.fc5.backprop(error, lr, net.a4, net.z4)\n",
    "    \n",
    "    # Now shape of error is (n_examples, 120)\n",
    "    error = net.fc4.backprop(error, lr, net.a3, net.z3)\n",
    "    \n",
    "    # Now shape of error is (n_examples, 400)\n",
    "    error = net.fc3.backprop(error, lr, net.a2, net.z2)\n",
    "    \n",
    "    # Now shape of error is (n_examples, 16, 5, 5)\n",
    "    error = error.reshape((n_examples, 16, 5, 5))\n",
    "    \n",
    "    # (n, 16, 10, 10)\n",
    "    error = net.pool2.backprop(error)\n",
    "    # Update parameters \n",
    "    net.conv2.update_parameters(error, net.a1, lr)\n",
    "\n",
    "    # (n, 6, 14, 14) = (n, 6, 14, 14) * (n, 6, 14, 14)\n",
    "    error = net.conv2.fast_get_error(error) * d_tanh(net.z1)\n",
    "    # (n, 6, 28, 28)\n",
    "    error = net.pool1.backprop(error)\n",
    "    # Update parameters\n",
    "    net.conv1.update_parameters(error, x, lr)"
   ]
  },
  {
   "cell_type": "code",
   "execution_count": 24,
   "metadata": {},
   "outputs": [
    {
     "name": "stdout",
     "output_type": "stream",
     "text": [
      "Accuracy: 0.146, Loss: 2.460306\t\n",
      "Accuracy: 0.524, Loss: 1.512175\t\n",
      "Accuracy: 0.577, Loss: 1.290259\t\n",
      "Accuracy: 0.657, Loss: 1.005856\t\n",
      "Accuracy: 0.761, Loss: 0.754329\t\n",
      "Accuracy: 0.756, Loss: 0.786223\t\n",
      "Accuracy: 0.826, Loss: 0.563556\t\n",
      "Accuracy: 0.687, Loss: 1.065699\t\n",
      "Accuracy: 0.844, Loss: 0.494707\t\n",
      "Accuracy: 0.857, Loss: 0.452255\t\n",
      "Accuracy: 0.876, Loss: 0.391741\t\n",
      "Accuracy: 0.865, Loss: 0.411658\t\n",
      "Accuracy: 0.864, Loss: 0.407057\t\n",
      "Accuracy: 0.849, Loss: 0.421514\t\n",
      "Accuracy: 0.863, Loss: 0.404624\t\n",
      "Accuracy: 0.852, Loss: 0.397635\t\n",
      "Accuracy: 0.893, Loss: 0.322507\t\n",
      "Accuracy: 0.884, Loss: 0.368197\t\n",
      "Epoch: 1, Batch: 370 of 370\n",
      "\n",
      "Results\n",
      "Accuracy 0.915\n",
      "Entropy: 0.28470573457111986\n",
      "Wall time: 30min 6s\n"
     ]
    }
   ],
   "source": [
    "%%time\n",
    "epochs = 1\n",
    "batch_size = 100\n",
    "lr = 0.001\n",
    "show_every = 20\n",
    "test_size = 1000\n",
    "\n",
    "n_batches = (train_size // batch_size) + 1\n",
    "hist_accuracy = [0] * (n_batches // show_every)\n",
    "hist_loss = [0] * (n_batches // show_every)\n",
    "hist_n = 0\n",
    "random_indexes = np.random.choice(train_size, test_size)\n",
    "x_test = x_train[random_indexes]\n",
    "y_test = y_train[random_indexes]\n",
    "\n",
    "for epoch in range(epochs):\n",
    "    for n in range(1, n_batches):\n",
    "        # Select current batch\n",
    "        x_batch = x_train[n * batch_size - batch_size : n * batch_size]\n",
    "        y_batch = y_train[n * batch_size - batch_size : n * batch_size]\n",
    "        # Train model\n",
    "        train(net, x_batch, y_batch, lr)\n",
    "\n",
    "        # Show status\n",
    "        str_start = \"\\r\"\n",
    "        if n % show_every == 0:\n",
    "            result = net.forward(x_test)\n",
    "            \n",
    "            hist_accuracy[hist_n] = round(get_accuracy(result, y_test), 3)\n",
    "            hist_loss[hist_n] = round(cross_entropy(result, y_test), 6)\n",
    "            \n",
    "            sys.stdout.write(f\"\\rAccuracy: {str(hist_accuracy[hist_n])}, Loss: {str(hist_loss[hist_n])}\\t\")\n",
    "            str_start = \"\\n\"\n",
    "            \n",
    "            hist_n += 1\n",
    "            \n",
    "        sys.stdout.write(f\"{str_start}Epoch: {str(epoch+1)}, Batch: {str(n)} of {str(train_size // batch_size)}\")\n",
    "        \n",
    "    # Show results\n",
    "    result = net.forward(x_validation)\n",
    "    print(\"\\n\\nResults\")\n",
    "    print(\"Accuracy\", get_accuracy(result, y_validation))\n",
    "    print(\"Entropy:\", cross_entropy(result, y_validation))"
   ]
  },
  {
   "cell_type": "code",
   "execution_count": 25,
   "metadata": {},
   "outputs": [],
   "source": [
    "net.parameters_to_file('conv_params.csv')"
   ]
  },
  {
   "cell_type": "markdown",
   "metadata": {},
   "source": [
    "# Results"
   ]
  },
  {
   "cell_type": "markdown",
   "metadata": {},
   "source": [
    "### Cross-entropy"
   ]
  },
  {
   "cell_type": "code",
   "execution_count": 26,
   "metadata": {},
   "outputs": [
    {
     "data": {
      "image/png": "[encoded data removed]",
      "text/plain": [
       "<Figure size 432x288 with 1 Axes>"
      ]
     },
     "metadata": {
      "needs_background": "light"
     },
     "output_type": "display_data"
    }
   ],
   "source": [
    "plt.plot(hist_loss)\n",
    "plt.ylabel('Cross-entropy value');"
   ]
  },
  {
   "cell_type": "markdown",
   "metadata": {},
   "source": [
    "### Accuracy"
   ]
  },
  {
   "cell_type": "code",
   "execution_count": 27,
   "metadata": {},
   "outputs": [
    {
     "data": {
      "image/png": "[encoded data removed]",
      "text/plain": [
       "<Figure size 432x288 with 1 Axes>"
      ]
     },
     "metadata": {
      "needs_background": "light"
     },
     "output_type": "display_data"
    }
   ],
   "source": [
    "plt.plot(hist_accuracy)\n",
    "plt.ylabel('Accuracy');"
   ]
  },
  {
   "cell_type": "markdown",
   "metadata": {},
   "source": [
    "# Tests"
   ]
  },
  {
   "cell_type": "code",
   "execution_count": 28,
   "metadata": {},
   "outputs": [
    {
     "name": "stdout",
     "output_type": "stream",
     "text": [
      "Network answer is 0\n",
      "Right answer is   0\n"
     ]
    },
    {
     "data": {
      "image/png": "[encoded data removed]",
      "text/plain": [
       "<Figure size 432x288 with 1 Axes>"
      ]
     },
     "metadata": {
      "needs_background": "light"
     },
     "output_type": "display_data"
    }
   ],
   "source": [
    "n = 17\n",
    "\n",
    "plt.imshow(x_train[n][0])\n",
    "answ = net.forward(x_train[n][:, np.newaxis]).argmax()\n",
    "print(f'Network answer is {answ}')\n",
    "print(f'Right answer is   {int(y_train[n, 0])}' )"
   ]
  },
  {
   "cell_type": "code",
   "execution_count": 29,
   "metadata": {},
   "outputs": [
    {
     "data": {
      "text/plain": [
       "3"
      ]
     },
     "execution_count": 29,
     "metadata": {},
     "output_type": "execute_result"
    },
    {
     "data": {
      "image/png": "[encoded data removed]",
      "text/plain": [
       "<Figure size 432x288 with 1 Axes>"
      ]
     },
     "metadata": {
      "needs_background": "light"
     },
     "output_type": "display_data"
    }
   ],
   "source": [
    "# Image 28x28\n",
    "image = mpimg.imread('mnist/mypicture.png')\n",
    "plt.imshow(image)\n",
    "\n",
    "matrix_img = np.array(1 - image[:,:, 0])[np.newaxis, np.newaxis]\n",
    "matrix_img = np.pad(matrix_img, padding)\n",
    "net.forward(matrix_img).argmax()"
   ]
  },
  {
   "cell_type": "code",
   "execution_count": null,
   "metadata": {},
   "outputs": [],
   "source": []
  }
 ],
 "metadata": {
  "kernelspec": {
   "display_name": "Python 3",
   "language": "python",
   "name": "python3"
  },
  "language_info": {
   "codemirror_mode": {
    "name": "ipython",
    "version": 3
   },
   "file_extension": ".py",
   "mimetype": "text/x-python",
   "name": "python",
   "nbconvert_exporter": "python",
   "pygments_lexer": "ipython3",
   "version": "3.8.6"
  }
 },
 "nbformat": 4,
 "nbformat_minor": 4
}
